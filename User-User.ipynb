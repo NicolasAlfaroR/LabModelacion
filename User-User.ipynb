{
 "cells": [
  {
   "cell_type": "markdown",
   "metadata": {},
   "source": [
    "# Lab de Modelación "
   ]
  },
  {
   "cell_type": "code",
   "execution_count": 79,
   "metadata": {},
   "outputs": [],
   "source": [
    "#Librería a utilizar\n",
    "import numpy as np\n",
    "import surprise \n",
    "import pandas as pd\n",
    "from numpy import linalg as LA"
   ]
  },
  {
   "cell_type": "markdown",
   "metadata": {},
   "source": [
    "### Paso 1) Crear un sistema de recomendación (user-user).\n",
    "#### a) Top 5 mejores libros rankeados."
   ]
  },
  {
   "cell_type": "code",
   "execution_count": 2,
   "metadata": {},
   "outputs": [
    {
     "name": "stdout",
     "output_type": "stream",
     "text": [
      "0    043935806X\n",
      "1    0439136369\n",
      "2    0345339681\n",
      "3    0446310786\n",
      "4    059035342X\n",
      "Name: ISBN, dtype: object\n"
     ]
    }
   ],
   "source": [
    "#Definiendo mejores libros\n",
    "df=pd.read_csv('BX-Book-Ratings.csv', sep=';', error_bad_lines=False,encoding='latin-1')\n",
    "df=df.drop('User-ID',axis=1)\n",
    "\n",
    "#Restricción sobre cantidad de evaluaciones\n",
    "contador=df.groupby('ISBN').count()\n",
    "Filtrocontador=contador['Book-Rating']>=200\n",
    "contador=contador[Filtrocontador]\n",
    "\n",
    "df_final=pd.merge(df,contador,on='ISBN',how='inner')\n",
    "df_final=df_final.drop('Book-Rating_y',axis=1)\n",
    "df_final=df_final.groupby('ISBN').mean().sort_values('Book-Rating_x',ascending=False).head(5)\n",
    "df_final=df_final.reset_index()\n",
    "MejoresLibros=df_final['ISBN']\n",
    "print(MejoresLibros)"
   ]
  },
  {
   "cell_type": "markdown",
   "metadata": {},
   "source": [
    "#### b) Sistema de recomendación user-user con similaridad del coseno."
   ]
  },
  {
   "cell_type": "code",
   "execution_count": 139,
   "metadata": {},
   "outputs": [
    {
     "data": {
      "text/plain": [
       "[[8, 123629, 200273, 210926, 67544, 226745],\n",
       " [123629, 200273, 210926, 67544, 8, 219008],\n",
       " [200273, 123629, 67979, 18486, 175420, 23131]]"
      ]
     },
     "execution_count": 139,
     "metadata": {},
     "output_type": "execute_result"
    }
   ],
   "source": [
    "#Limpia los valores no nulos y vuelve a realizar un acomodamiento\n",
    "def Dataframe_final(ID_Usuario,test_df,df):\n",
    "    \n",
    "    #Filtros asociados a entradas no null y al usuario de interés\n",
    "    filtro_nuevo=test_df.loc[ID_Usuario].notnull()==True\n",
    "    \n",
    "    #Libros en los cuál el usuario ha interactuado.\n",
    "    indices=list(test_df.loc[ID_Usuario][filtro_nuevo].index)\n",
    "    \n",
    "    return(test_df[indices].fillna(0))\n",
    "    \n",
    "#Retorna el dataframe con una nueva columna \"Similaridad\" que describe la similaridad del coseno.\n",
    "def Similaridad(ID_Usuario,test_df,df):\n",
    "    df_usuario=Dataframe_final(ID_Usuario,test_df,df)\n",
    "    largo_filas=df_usuario.shape[0]\n",
    "    largo_columna=df_usuario.shape[1]\n",
    "    df_usuario['Similaridad']=0\n",
    "    for i in range(0,largo_filas):\n",
    "        Producto_interno=np.dot(df_usuario.iloc[i,0:largo_columna-1],df_usuario.loc[ID_Usuario][0:largo_columna-1])\n",
    "        Producto_norma=df_usuario.loc[ID_Usuario]['Norma']*df_usuario.iloc[i]['Norma']\n",
    "        if Producto_norma==0:\n",
    "            continue\n",
    "        else:            \n",
    "            df_usuario.iloc[i,largo_columna]=(Producto_interno/Producto_norma)\n",
    "    return(df_usuario)\n",
    "\n",
    "#Retorna los primeros n usuarios mas similares.\n",
    "def Usuarios_Similares(ID_Usuario,test_df,df,n):\n",
    "    df_usuarios=Similaridad(ID_Usuario,test_df,df)\n",
    "    df_usuarios=df_usuarios.sort_values(by='Similaridad',ascending=False)\n",
    "    return(df_usuarios.head(n).index)\n",
    "\n",
    "#Retorna todos los items con los cuales el usuario ha interactuado\n",
    "def Items_of_interest(df,ID_user):\n",
    "     #Generando la independencia de nombre de las columnas\n",
    "    columnas=list(df.columns)\n",
    "    User=columnas[0]\n",
    "    Item=columnas[1]\n",
    "    Rating=columnas[2]\n",
    "    \n",
    "    #Filtro usuario a interés\n",
    "    filtro_aux=df[User]==ID_user\n",
    "    return list(df[filtro_aux][Item].unique())\n",
    "\n",
    "#Norma de una fila (usuario en particular) de la matriz sparse.\n",
    "def Norma(df,ID_user):\n",
    "    #Generando la independencia de nombre de las columnas\n",
    "    columnas=list(df.columns)\n",
    "    User=columnas[0]\n",
    "    Item=columnas[1]\n",
    "    Rating=columnas[2]\n",
    "    \n",
    "    #Filtrando las participaciones del usuario a interés\n",
    "    filtro_aux=df[User]==ID_user\n",
    "    norma=LA.norm(df[filtro_aux][Rating])\n",
    "    return norma\n",
    "\n",
    "#Dado un usuario en particular pivotea (matriz sparse) para los casos que éste ha interactuado\n",
    "def Particular_pivot(df,ID_user):\n",
    "    #Independencia de nombres\n",
    "    columnas=list(df.columns)\n",
    "    User=columnas[0]\n",
    "    Item=columnas[1]\n",
    "    Rating=columnas[2]\n",
    "    \n",
    "    #Filtro de participación\n",
    "    Filtro_usuario=df[User]==ID_user\n",
    "    if df[Filtro_usuario].shape[0]<1:\n",
    "        return('ID no registrada, no es posible encontrar usuarios similares')\n",
    "    \n",
    "    items=Items_of_interest(df,ID_user)\n",
    "    test_df=df[df[Item].isin(items)].pivot(index=User,columns=Item,values=Rating)\n",
    "    normas=[]\n",
    "    for indice in list(test_df.index):\n",
    "        normas.append(Norma(df,indice))\n",
    "    test_df.loc[:,'Norma']=normas\n",
    "    return test_df\n",
    "    \n",
    "def TopN_Singular(df,n,ID_user):\n",
    "    test_df=Particular_pivot(df,ID_user)\n",
    "    if isinstance(test_df, str):\n",
    "        return test_df\n",
    "    Top=Usuarios_Similares(ID_user,test_df,df,n)\n",
    "    return list(Top)\n",
    "\n",
    "def TopN_Plural(df,n,Usuarios):\n",
    "    Tops=[]\n",
    "    for Usuario in Usuarios:\n",
    "        Tops.append(TopN_Singular(df,n,Usuario))\n",
    "    return Tops\n",
    "\n",
    "#Ejemplo para un dataframe en particular de libros.\n",
    "df=pd.read_csv('BX-Book-Ratings.csv', sep=';', error_bad_lines=False,encoding='latin-1')\n",
    "df.sort_values('User-ID')\n",
    "\n",
    "#Ejemplo con ID-Usuario 8,123629,200273\n",
    "TopN_Plural(df,6,[8,123629,200273])"
   ]
  },
  {
   "cell_type": "markdown",
   "metadata": {},
   "source": [
    "### Caso de Laboratorio:\n",
    "\n",
    "---\n",
    "Se realiza un caso artifical, donde manualmente se verifica que sea capaz de encontrar usuarios similares\n",
    "\n",
    "Donde se ve a simple vista que el usuario 1 y 2 son bastante similares y 2 y 3 no lo son.\n",
    "\n",
    "---"
   ]
  },
  {
   "cell_type": "code",
   "execution_count": 135,
   "metadata": {},
   "outputs": [
    {
     "data": {
      "text/html": [
       "<div>\n",
       "<style scoped>\n",
       "    .dataframe tbody tr th:only-of-type {\n",
       "        vertical-align: middle;\n",
       "    }\n",
       "\n",
       "    .dataframe tbody tr th {\n",
       "        vertical-align: top;\n",
       "    }\n",
       "\n",
       "    .dataframe thead th {\n",
       "        text-align: right;\n",
       "    }\n",
       "</style>\n",
       "<table border=\"1\" class=\"dataframe\">\n",
       "  <thead>\n",
       "    <tr style=\"text-align: right;\">\n",
       "      <th>ISBN</th>\n",
       "      <th>a</th>\n",
       "      <th>b</th>\n",
       "      <th>c</th>\n",
       "      <th>d</th>\n",
       "      <th>Norma</th>\n",
       "    </tr>\n",
       "    <tr>\n",
       "      <th>User-ID</th>\n",
       "      <th></th>\n",
       "      <th></th>\n",
       "      <th></th>\n",
       "      <th></th>\n",
       "      <th></th>\n",
       "    </tr>\n",
       "  </thead>\n",
       "  <tbody>\n",
       "    <tr>\n",
       "      <td>1</td>\n",
       "      <td>10.0</td>\n",
       "      <td>9.0</td>\n",
       "      <td>6.0</td>\n",
       "      <td>2.0</td>\n",
       "      <td>14.866069</td>\n",
       "    </tr>\n",
       "    <tr>\n",
       "      <td>2</td>\n",
       "      <td>9.0</td>\n",
       "      <td>9.0</td>\n",
       "      <td>5.0</td>\n",
       "      <td>1.0</td>\n",
       "      <td>13.711309</td>\n",
       "    </tr>\n",
       "    <tr>\n",
       "      <td>3</td>\n",
       "      <td>2.0</td>\n",
       "      <td>3.0</td>\n",
       "      <td>0.0</td>\n",
       "      <td>NaN</td>\n",
       "      <td>3.605551</td>\n",
       "    </tr>\n",
       "    <tr>\n",
       "      <td>4</td>\n",
       "      <td>9.0</td>\n",
       "      <td>5.0</td>\n",
       "      <td>5.0</td>\n",
       "      <td>5.0</td>\n",
       "      <td>12.489996</td>\n",
       "    </tr>\n",
       "  </tbody>\n",
       "</table>\n",
       "</div>"
      ],
      "text/plain": [
       "ISBN        a    b    c    d      Norma\n",
       "User-ID                                \n",
       "1        10.0  9.0  6.0  2.0  14.866069\n",
       "2         9.0  9.0  5.0  1.0  13.711309\n",
       "3         2.0  3.0  0.0  NaN   3.605551\n",
       "4         9.0  5.0  5.0  5.0  12.489996"
      ]
     },
     "metadata": {},
     "output_type": "display_data"
    },
    {
     "name": "stdout",
     "output_type": "stream",
     "text": [
      "[2, 1, 4, 3]\n"
     ]
    }
   ],
   "source": [
    "datos={'User-ID':[1,1,1,2,1,3,3,2,2,4,2,3,4,4,4],\n",
    "       'ISBN':['a','b','c','a','d','a','b','b','c','a','d','c','b','c','d'],\n",
    "       'Book-Rating':[10,9,6,9,2,2,3,9,5,9,1,0,5,5,5]}\n",
    "       \n",
    "df_artificial=pd.DataFrame(datos)\n",
    "display(Particular_pivot(df_artificial,2))\n",
    "print(list(TopN_Singular(df_artificial,6,2)))\n"
   ]
  },
  {
   "cell_type": "markdown",
   "metadata": {},
   "source": [
    "### Paso 2) 3 librerías de Surprise \n",
    "\n",
    "Las 3 librerías escogidas son: Normal Predictor, KNNWithMeans y Co-clustering"
   ]
  },
  {
   "cell_type": "markdown",
   "metadata": {},
   "source": [
    "### Paso 3) Acomodar para futuros datos."
   ]
  },
  {
   "cell_type": "code",
   "execution_count": null,
   "metadata": {},
   "outputs": [],
   "source": [
    "#data=pd.read_csv('data_cust.csv')\n"
   ]
  },
  {
   "cell_type": "markdown",
   "metadata": {},
   "source": [
    " ### Paso 4) Crear un sistema de recomendación Item-Item"
   ]
  },
  {
   "cell_type": "markdown",
   "metadata": {},
   "source": [
    "### Errores encontrados en la ejecución (Ignorar)"
   ]
  },
  {
   "cell_type": "code",
   "execution_count": null,
   "metadata": {},
   "outputs": [],
   "source": [
    "# Problema Solucionado\n",
    "\n",
    "#conteo_participacion=df.groupby('User-ID')['Book-Rating'].count().reset_index()\n",
    "#conteo_participacion.columns.values[1]='Participacion'\n",
    "#Filtroparticipacion=conteo_participacion['Participacion']>29\n",
    "#conteo_participacion=conteo_participacion[Filtroparticipacion]\n",
    "#display(conteo_participacion)\n",
    "#df_2=pd.merge(df,conteo_participacion,on='User-ID',how='inner')\n",
    "#df_2=df_2.drop(['Participacion'],axis=1)\n",
    "\n",
    "#\n",
    "\n",
    "#Problema 1: Incapacidad para segmentar los conjuntos de datos de forma de maximizar la aparición de \n",
    "#un usuario en ambos conjuntos\n",
    "    \n",
    "#Problema 2: Unable to allocate array with shape (140330835,) and data type int64 (Exceso de memoria ? )\n",
    "\n",
    "#df_prueba=pd.merge(df_train,df_test,on='User-ID',how='inner')\n",
    "#df_prueba=df_prueba.sample(frac=0.0001,replace=False,random_state=1)\n",
    "#Usuarios=df_prueba.head(10).reset_index()['User-ID']\n",
    "\n",
    "#for user in Usuarios:\n",
    "    #i=0\n",
    "    #df_train1=df_train\n",
    "    #filtrouser=df_train1['User-ID']==user\n",
    "    #Libros_calificados=df_train1[filtrouser][['ISBN','Book-Rating']]\n",
    "    #Libros_calificados=Libros_calificados.sort_values('Book-Rating',ascending=False).head(5)\n",
    "    #Libros=Libros_calificados['ISBN']\n",
    "    #Recomendacion=MejoresLibros\n",
    "    #for libro in Libros:\n",
    "        #filtro_libro=df_train1['ISBN']==libro\n",
    "        #if df_train1[filtro_libro].shape[0]<5:\n",
    "            #i=-1\n",
    "            #break\n",
    "        #else:\n",
    "            #df_train1=df_train1[filtro_libro]\n",
    "    #if i==0:\n",
    "        #df_train1=df_train1[~filtrouser]\n",
    "        #df_train1.sort_values\n",
    "        \n",
    "    #print('Se le recomienda al usuario {} los siguientes libros {}'.format(user,Recomendacion))\n",
    "    \n",
    "    #test_df['Norma']=0\n",
    "#test_df.columns\n",
    "#for column in list(test_df.columns):\n",
    "   # test_df['Norma']+=test_df[column]**2\n",
    "#test_df\n",
    "#new_df['Norma']=np.nan\n",
    "#for column in list(new_df.columns):\n",
    "   #new_df['Norma']+=new_df[column]**2"
   ]
  }
 ],
 "metadata": {
  "kernelspec": {
   "display_name": "Python 3",
   "language": "python",
   "name": "python3"
  },
  "language_info": {
   "codemirror_mode": {
    "name": "ipython",
    "version": 3
   },
   "file_extension": ".py",
   "mimetype": "text/x-python",
   "name": "python",
   "nbconvert_exporter": "python",
   "pygments_lexer": "ipython3",
   "version": "3.7.3"
  }
 },
 "nbformat": 4,
 "nbformat_minor": 2
}
