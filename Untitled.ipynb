{
 "cells": [
  {
   "cell_type": "markdown",
   "metadata": {},
   "source": [
    "# Lab de Modelación "
   ]
  },
  {
   "cell_type": "code",
   "execution_count": 2,
   "metadata": {},
   "outputs": [],
   "source": [
    "#Librería a utilizar\n",
    "import surprise \n",
    "import pandas as pd\n",
    "from sklearn.model_selection import train_test_split"
   ]
  },
  {
   "cell_type": "markdown",
   "metadata": {},
   "source": [
    "### Paso 1) Crear un sistema de recomendación (user-user).\n",
    "#### a) Top 5 mejores libros rankeados."
   ]
  },
  {
   "cell_type": "code",
   "execution_count": 116,
   "metadata": {},
   "outputs": [
    {
     "name": "stdout",
     "output_type": "stream",
     "text": [
      "0    043935806X\n",
      "1    0439136369\n",
      "2    0345339681\n",
      "3    0446310786\n",
      "4    059035342X\n",
      "Name: ISBN, dtype: object\n"
     ]
    }
   ],
   "source": [
    "#Definiendo mejores libros\n",
    "df=pd.read_csv('BX-Book-Ratings.csv', sep=';', error_bad_lines=False,encoding='latin-1')\n",
    "df=df.drop('User-ID',axis=1)\n",
    "\n",
    "#Restricción sobre cantidad de evaluaciones\n",
    "contador=df.groupby('ISBN').count()\n",
    "Filtrocontador=contador['Book-Rating']>=200\n",
    "contador=contador[Filtrocontador]\n",
    "\n",
    "df_final=pd.merge(df,contador,on='ISBN',how='inner')\n",
    "df_final=df_final.drop('Book-Rating_y',axis=1)\n",
    "df_final=df_final.groupby('ISBN').mean().sort_values('Book-Rating_x',ascending=False).head(5)\n",
    "df_final=df_final.reset_index()\n",
    "MejoresLibros=df_final['ISBN']\n",
    "print(MejoresLibros)"
   ]
  },
  {
   "cell_type": "markdown",
   "metadata": {},
   "source": [
    "#### b) Encontrar similaridad entre usuarios, mediante la similaridad del coseno"
   ]
  },
  {
   "cell_type": "code",
   "execution_count": 14,
   "metadata": {},
   "outputs": [
    {
     "name": "stdout",
     "output_type": "stream",
     "text": [
      "         User-ID         ISBN  Book-Rating\n",
      "0         276725   034545104X            0\n",
      "1         276726   0155061224            5\n",
      "2         276727   0446520802            0\n",
      "3         276729   052165615X            3\n",
      "4         276729   0521795028            6\n",
      "...          ...          ...          ...\n",
      "1149775   276704   1563526298            9\n",
      "1149776   276706   0679447156            0\n",
      "1149777   276709   0515107662           10\n",
      "1149778   276721   0590442449           10\n",
      "1149779   276723  05162443314            8\n",
      "\n",
      "[1149780 rows x 3 columns]\n"
     ]
    },
    {
     "data": {
      "text/html": [
       "<div>\n",
       "<style scoped>\n",
       "    .dataframe tbody tr th:only-of-type {\n",
       "        vertical-align: middle;\n",
       "    }\n",
       "\n",
       "    .dataframe tbody tr th {\n",
       "        vertical-align: top;\n",
       "    }\n",
       "\n",
       "    .dataframe thead th {\n",
       "        text-align: right;\n",
       "    }\n",
       "</style>\n",
       "<table border=\"1\" class=\"dataframe\">\n",
       "  <thead>\n",
       "    <tr style=\"text-align: right;\">\n",
       "      <th></th>\n",
       "      <th>User-ID</th>\n",
       "      <th>ISBN</th>\n",
       "      <th>Book-Rating</th>\n",
       "    </tr>\n",
       "  </thead>\n",
       "  <tbody>\n",
       "    <tr>\n",
       "      <td>1148401</td>\n",
       "      <td>276275</td>\n",
       "      <td>0380014033</td>\n",
       "      <td>10</td>\n",
       "    </tr>\n",
       "    <tr>\n",
       "      <td>1148402</td>\n",
       "      <td>276275</td>\n",
       "      <td>0671689126</td>\n",
       "      <td>9</td>\n",
       "    </tr>\n",
       "    <tr>\n",
       "      <td>1148404</td>\n",
       "      <td>276275</td>\n",
       "      <td>07183100395</td>\n",
       "      <td>9</td>\n",
       "    </tr>\n",
       "    <tr>\n",
       "      <td>1148406</td>\n",
       "      <td>276275</td>\n",
       "      <td>0743423801</td>\n",
       "      <td>5</td>\n",
       "    </tr>\n",
       "    <tr>\n",
       "      <td>1148407</td>\n",
       "      <td>276275</td>\n",
       "      <td>0764552953</td>\n",
       "      <td>8</td>\n",
       "    </tr>\n",
       "    <tr>\n",
       "      <td>1148409</td>\n",
       "      <td>276275</td>\n",
       "      <td>1556343205</td>\n",
       "      <td>10</td>\n",
       "    </tr>\n",
       "    <tr>\n",
       "      <td>1148410</td>\n",
       "      <td>276275</td>\n",
       "      <td>1578260914</td>\n",
       "      <td>7</td>\n",
       "    </tr>\n",
       "    <tr>\n",
       "      <td>1148411</td>\n",
       "      <td>276275</td>\n",
       "      <td>1578632064</td>\n",
       "      <td>7</td>\n",
       "    </tr>\n",
       "    <tr>\n",
       "      <td>1148412</td>\n",
       "      <td>276275</td>\n",
       "      <td>1893626369</td>\n",
       "      <td>9</td>\n",
       "    </tr>\n",
       "  </tbody>\n",
       "</table>\n",
       "</div>"
      ],
      "text/plain": [
       "         User-ID         ISBN  Book-Rating\n",
       "1148401   276275   0380014033           10\n",
       "1148402   276275   0671689126            9\n",
       "1148404   276275  07183100395            9\n",
       "1148406   276275   0743423801            5\n",
       "1148407   276275   0764552953            8\n",
       "1148409   276275   1556343205           10\n",
       "1148410   276275   1578260914            7\n",
       "1148411   276275   1578632064            7\n",
       "1148412   276275   1893626369            9"
      ]
     },
     "execution_count": 14,
     "metadata": {},
     "output_type": "execute_result"
    }
   ],
   "source": [
    "\n",
    "df=pd.read_csv('BX-Book-Ratings.csv', sep=';', error_bad_lines=False,encoding='latin-1')\n",
    "df.sort_values('User-ID')\n",
    "print(df)\n",
    "\n",
    "def Similaridad(ID_Usuario):\n",
    "    Filtro_usuario=df['User-ID']==ID_Usuario\n",
    "    Filtro_nota_nula=df['Book-Rating']==0\n",
    "    \n",
    "    #Se asegura de que el usuario ha interactuado.\n",
    "    if df[Filtro_usuario].shape[0]<1:\n",
    "        return('ID no registrada, no es posible encontrar usuarios similares')\n",
    "    else:\n",
    "        return(df[Filtro_usuario & ~Filtro_nota_nula])\n",
    "\n",
    "Similaridad(276275)\n",
    "# Problema Solucionado\n",
    "\n",
    "#conteo_participacion=df.groupby('User-ID')['Book-Rating'].count().reset_index()\n",
    "#conteo_participacion.columns.values[1]='Participacion'\n",
    "#Filtroparticipacion=conteo_participacion['Participacion']>29\n",
    "#conteo_participacion=conteo_participacion[Filtroparticipacion]\n",
    "#display(conteo_participacion)\n",
    "#df_2=pd.merge(df,conteo_participacion,on='User-ID',how='inner')\n",
    "#df_2=df_2.drop(['Participacion'],axis=1)\n",
    "\n",
    "#\n",
    "\n",
    "#Problema 1: Incapacidad para segmentar los conjuntos de datos de forma de maximizar la aparición de \n",
    "#un usuario en ambos conjuntos\n",
    "    \n",
    "#Problema 2: Unable to allocate array with shape (140330835,) and data type int64 (Exceso de memoria ? )\n",
    "\n",
    "#df_prueba=pd.merge(df_train,df_test,on='User-ID',how='inner')\n",
    "#df_prueba=df_prueba.sample(frac=0.0001,replace=False,random_state=1)\n",
    "#Usuarios=df_prueba.head(10).reset_index()['User-ID']\n",
    "\n",
    "#for user in Usuarios:\n",
    "    #i=0\n",
    "    #df_train1=df_train\n",
    "    #filtrouser=df_train1['User-ID']==user\n",
    "    #Libros_calificados=df_train1[filtrouser][['ISBN','Book-Rating']]\n",
    "    #Libros_calificados=Libros_calificados.sort_values('Book-Rating',ascending=False).head(5)\n",
    "    #Libros=Libros_calificados['ISBN']\n",
    "    #Recomendacion=MejoresLibros\n",
    "    #for libro in Libros:\n",
    "        #filtro_libro=df_train1['ISBN']==libro\n",
    "        #if df_train1[filtro_libro].shape[0]<5:\n",
    "            #i=-1\n",
    "            #break\n",
    "        #else:\n",
    "            #df_train1=df_train1[filtro_libro]\n",
    "    #if i==0:\n",
    "        #df_train1=df_train1[~filtrouser]\n",
    "        #df_train1.sort_values\n",
    "        \n",
    "    #print('Se le recomienda al usuario {} los siguientes libros {}'.format(user,Recomendacion))\n",
    "    \n"
   ]
  },
  {
   "cell_type": "code",
   "execution_count": null,
   "metadata": {},
   "outputs": [],
   "source": []
  },
  {
   "cell_type": "markdown",
   "metadata": {},
   "source": [
    "### Paso 2) Acomodar para futuros datos."
   ]
  },
  {
   "cell_type": "code",
   "execution_count": null,
   "metadata": {},
   "outputs": [],
   "source": [
    "#data=pd.read_csv('Transacciones.csv')\n"
   ]
  },
  {
   "cell_type": "code",
   "execution_count": null,
   "metadata": {},
   "outputs": [],
   "source": []
  }
 ],
 "metadata": {
  "kernelspec": {
   "display_name": "Python 3",
   "language": "python",
   "name": "python3"
  },
  "language_info": {
   "codemirror_mode": {
    "name": "ipython",
    "version": 3
   },
   "file_extension": ".py",
   "mimetype": "text/x-python",
   "name": "python",
   "nbconvert_exporter": "python",
   "pygments_lexer": "ipython3",
   "version": "3.7.3"
  }
 },
 "nbformat": 4,
 "nbformat_minor": 2
}
