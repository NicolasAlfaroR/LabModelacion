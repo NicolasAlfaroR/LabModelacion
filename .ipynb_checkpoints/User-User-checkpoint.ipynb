{
 "cells": [
  {
   "cell_type": "markdown",
   "metadata": {},
   "source": [
    "# Lab de Modelación "
   ]
  },
  {
   "cell_type": "code",
   "execution_count": 2,
   "metadata": {},
   "outputs": [],
   "source": [
    "#Librería a utilizar\n",
    "import numpy as np\n",
    "import surprise \n",
    "import pandas as pd"
   ]
  },
  {
   "cell_type": "markdown",
   "metadata": {},
   "source": [
    "### Paso 1) Crear un sistema de recomendación (user-user).\n",
    "#### a) Top 5 mejores libros rankeados."
   ]
  },
  {
   "cell_type": "code",
   "execution_count": 3,
   "metadata": {},
   "outputs": [
    {
     "name": "stdout",
     "output_type": "stream",
     "text": [
      "0    043935806X\n",
      "1    0439136369\n",
      "2    0345339681\n",
      "3    0446310786\n",
      "4    059035342X\n",
      "Name: ISBN, dtype: object\n"
     ]
    }
   ],
   "source": [
    "#Definiendo mejores libros\n",
    "df=pd.read_csv('BX-Book-Ratings.csv', sep=';', error_bad_lines=False,encoding='latin-1')\n",
    "df=df.drop('User-ID',axis=1)\n",
    "\n",
    "#Restricción sobre cantidad de evaluaciones\n",
    "contador=df.groupby('ISBN').count()\n",
    "Filtrocontador=contador['Book-Rating']>=200\n",
    "contador=contador[Filtrocontador]\n",
    "\n",
    "df_final=pd.merge(df,contador,on='ISBN',how='inner')\n",
    "df_final=df_final.drop('Book-Rating_y',axis=1)\n",
    "df_final=df_final.groupby('ISBN').mean().sort_values('Book-Rating_x',ascending=False).head(5)\n",
    "df_final=df_final.reset_index()\n",
    "MejoresLibros=df_final['ISBN']\n",
    "print(MejoresLibros)"
   ]
  },
  {
   "cell_type": "markdown",
   "metadata": {},
   "source": [
    "#### b) Encontrar similaridad entre usuarios, mediante la similaridad del coseno"
   ]
  },
  {
   "cell_type": "code",
   "execution_count": 4,
   "metadata": {},
   "outputs": [],
   "source": [
    "\n",
    "df=pd.read_csv('BX-Book-Ratings.csv', sep=';', error_bad_lines=False,encoding='latin-1')\n",
    "df.sort_values('User-ID')\n",
    "\n",
    "#Reducción de la matriz\n",
    "df=df.head(200000)\n",
    "\n",
    "#Pivoteo a un formato más comodo , como matriz sparse.\n",
    "\n",
    "new_df=df.pivot(index='User-ID', columns='ISBN', values='Book-Rating')\n",
    "\n",
    "    \n"
   ]
  },
  {
   "cell_type": "code",
   "execution_count": 33,
   "metadata": {},
   "outputs": [
    {
     "data": {
      "text/plain": [
       "Int64Index([8, 2, 3757, 3779, 3777, 3776], dtype='int64', name='User-ID')"
      ]
     },
     "metadata": {},
     "output_type": "display_data"
    }
   ],
   "source": [
    "#Nueva reducción de la matriz\n",
    "test_df=new_df.head(2000)\n",
    "normas=[]\n",
    "for indice in list(test_df.index):\n",
    "    normas.append(((test_df.loc[indice].dropna()**2).sum())**(1/2))\n",
    "test_df.loc[:,'Norma']=normas\n",
    "\n",
    "#Reducción del dataframe a pos de operar con las entradas significativas (aquellas que no son null)\n",
    "\n",
    "def Dataframe_final(ID_Usuario,test_df,df):\n",
    "    \n",
    "    #Filtros asociados a entradas no null y al usuario de interés\n",
    "    filtro_nuevo=test_df.loc[ID_Usuario].notnull()==True\n",
    "    Filtro_usuario=df['User-ID']==ID_Usuario\n",
    "    \n",
    "    #Libros en los cuál el usuario ha interactuado.\n",
    "    indices=list(test_df.loc[ID_Usuario][filtro_nuevo].index)\n",
    "    \n",
    "    \n",
    "    #Se asegura de que el usuario ha interactuado.\n",
    "    if df[Filtro_usuario].shape[0]<1:\n",
    "        return('ID no registrada, no es posible encontrar usuarios similares')\n",
    "    else:\n",
    "        return(test_df[indices].fillna(0))\n",
    "    \n",
    "\n",
    "def Similaridad(ID_Usuario,test_df,df):\n",
    "    df_usuario=Dataframe_final(ID_Usuario,test_df,df)\n",
    "    largo_filas=df_usuario.shape[0]\n",
    "    largo_columna=df_usuario.shape[1]\n",
    "    df_usuario['Similaridad']=0\n",
    "    for i in range(0,largo_filas):\n",
    "        Producto_interno=np.dot(df_usuario.iloc[i,0:largo_columna-1],df_usuario.loc[ID_Usuario][0:largo_columna-1])\n",
    "        Producto_norma=df_usuario.loc[ID_Usuario]['Norma']*df_usuario.iloc[i]['Norma']\n",
    "        if Producto_norma==0:\n",
    "            continue\n",
    "        else:            \n",
    "            df_usuario.iloc[i,largo_columna]=(Producto_interno/Producto_norma)\n",
    "    return(df_usuario)\n",
    "\n",
    "def Usuarios_Similares(ID_Usuario,test_df,df):\n",
    "    df_usuarios=Similaridad(ID_Usuario,test_df,df)\n",
    "    df_usuarios=df_usuarios.sort_values(by='Similaridad',ascending=False)\n",
    "    return(df_usuarios.head(6).index)\n",
    "\n",
    "final=Usuarios_Similares(8,test_df,df)\n",
    "display(final)\n",
    "        \n"
   ]
  },
  {
   "cell_type": "markdown",
   "metadata": {},
   "source": [
    "### Caso de Laboratorio:\n",
    "\n",
    "---\n",
    "Se realiza un caso artifical, donde manualmente se \n",
    "\n",
    "---"
   ]
  },
  {
   "cell_type": "code",
   "execution_count": 44,
   "metadata": {},
   "outputs": [
    {
     "data": {
      "text/html": [
       "<div>\n",
       "<style scoped>\n",
       "    .dataframe tbody tr th:only-of-type {\n",
       "        vertical-align: middle;\n",
       "    }\n",
       "\n",
       "    .dataframe tbody tr th {\n",
       "        vertical-align: top;\n",
       "    }\n",
       "\n",
       "    .dataframe thead th {\n",
       "        text-align: right;\n",
       "    }\n",
       "</style>\n",
       "<table border=\"1\" class=\"dataframe\">\n",
       "  <thead>\n",
       "    <tr style=\"text-align: right;\">\n",
       "      <th>ISBN</th>\n",
       "      <th>a</th>\n",
       "      <th>b</th>\n",
       "      <th>c</th>\n",
       "      <th>d</th>\n",
       "    </tr>\n",
       "    <tr>\n",
       "      <th>User-ID</th>\n",
       "      <th></th>\n",
       "      <th></th>\n",
       "      <th></th>\n",
       "      <th></th>\n",
       "    </tr>\n",
       "  </thead>\n",
       "  <tbody>\n",
       "    <tr>\n",
       "      <td>1</td>\n",
       "      <td>10.0</td>\n",
       "      <td>9.0</td>\n",
       "      <td>6.0</td>\n",
       "      <td>2.0</td>\n",
       "    </tr>\n",
       "    <tr>\n",
       "      <td>2</td>\n",
       "      <td>9.0</td>\n",
       "      <td>9.0</td>\n",
       "      <td>5.0</td>\n",
       "      <td>1.0</td>\n",
       "    </tr>\n",
       "    <tr>\n",
       "      <td>3</td>\n",
       "      <td>2.0</td>\n",
       "      <td>3.0</td>\n",
       "      <td>0.0</td>\n",
       "      <td>NaN</td>\n",
       "    </tr>\n",
       "    <tr>\n",
       "      <td>4</td>\n",
       "      <td>9.0</td>\n",
       "      <td>5.0</td>\n",
       "      <td>5.0</td>\n",
       "      <td>5.0</td>\n",
       "    </tr>\n",
       "  </tbody>\n",
       "</table>\n",
       "</div>"
      ],
      "text/plain": [
       "ISBN        a    b    c    d\n",
       "User-ID                     \n",
       "1        10.0  9.0  6.0  2.0\n",
       "2         9.0  9.0  5.0  1.0\n",
       "3         2.0  3.0  0.0  NaN\n",
       "4         9.0  5.0  5.0  5.0"
      ]
     },
     "metadata": {},
     "output_type": "display_data"
    },
    {
     "data": {
      "text/plain": [
       "[4, 1, 2, 3]"
      ]
     },
     "metadata": {},
     "output_type": "display_data"
    }
   ],
   "source": [
    "datos={'User-ID':[1,1,1,2,1,3,3,2,2,4,2,3,4,4,4],\n",
    "       'ISBN':['a','b','c','a','d','a','b','b','c','a','d','c','b','c','d'],\n",
    "       'Book-Rating':[10,9,6,9,2,2,3,9,5,9,1,0,5,5,5]}\n",
    "       \n",
    "df_artificial=pd.DataFrame(datos)\n",
    "df_artificial_pivoteado=df_artificial.pivot(index='User-ID', columns='ISBN', values='Book-Rating')\n",
    "display(df_artificial_pivoteado)\n",
    "\n",
    "normas=[]\n",
    "for indice in list(df_artificial_pivoteado.index):\n",
    "    normas.append(((df_artificial_pivoteado.loc[indice].dropna()**2).sum())**(1/2))\n",
    "df_artificial_pivoteado.loc[:,'Norma']=normas\n",
    "\n",
    "final=Usuarios_Similares(4,df_artificial_pivoteado,df_artificial)\n",
    "display(list(final))"
   ]
  },
  {
   "cell_type": "markdown",
   "metadata": {},
   "source": [
    "### Paso 2) Acomodar para futuros datos."
   ]
  },
  {
   "cell_type": "code",
   "execution_count": null,
   "metadata": {},
   "outputs": [],
   "source": [
    "#data=pd.read_csv('data_cust.csv')\n"
   ]
  },
  {
   "cell_type": "markdown",
   "metadata": {},
   "source": [
    "### Errores encontrados en la ejecución (Ignorar)"
   ]
  },
  {
   "cell_type": "code",
   "execution_count": null,
   "metadata": {},
   "outputs": [],
   "source": [
    "# Problema Solucionado\n",
    "\n",
    "#conteo_participacion=df.groupby('User-ID')['Book-Rating'].count().reset_index()\n",
    "#conteo_participacion.columns.values[1]='Participacion'\n",
    "#Filtroparticipacion=conteo_participacion['Participacion']>29\n",
    "#conteo_participacion=conteo_participacion[Filtroparticipacion]\n",
    "#display(conteo_participacion)\n",
    "#df_2=pd.merge(df,conteo_participacion,on='User-ID',how='inner')\n",
    "#df_2=df_2.drop(['Participacion'],axis=1)\n",
    "\n",
    "#\n",
    "\n",
    "#Problema 1: Incapacidad para segmentar los conjuntos de datos de forma de maximizar la aparición de \n",
    "#un usuario en ambos conjuntos\n",
    "    \n",
    "#Problema 2: Unable to allocate array with shape (140330835,) and data type int64 (Exceso de memoria ? )\n",
    "\n",
    "#df_prueba=pd.merge(df_train,df_test,on='User-ID',how='inner')\n",
    "#df_prueba=df_prueba.sample(frac=0.0001,replace=False,random_state=1)\n",
    "#Usuarios=df_prueba.head(10).reset_index()['User-ID']\n",
    "\n",
    "#for user in Usuarios:\n",
    "    #i=0\n",
    "    #df_train1=df_train\n",
    "    #filtrouser=df_train1['User-ID']==user\n",
    "    #Libros_calificados=df_train1[filtrouser][['ISBN','Book-Rating']]\n",
    "    #Libros_calificados=Libros_calificados.sort_values('Book-Rating',ascending=False).head(5)\n",
    "    #Libros=Libros_calificados['ISBN']\n",
    "    #Recomendacion=MejoresLibros\n",
    "    #for libro in Libros:\n",
    "        #filtro_libro=df_train1['ISBN']==libro\n",
    "        #if df_train1[filtro_libro].shape[0]<5:\n",
    "            #i=-1\n",
    "            #break\n",
    "        #else:\n",
    "            #df_train1=df_train1[filtro_libro]\n",
    "    #if i==0:\n",
    "        #df_train1=df_train1[~filtrouser]\n",
    "        #df_train1.sort_values\n",
    "        \n",
    "    #print('Se le recomienda al usuario {} los siguientes libros {}'.format(user,Recomendacion))\n",
    "    \n",
    "    #test_df['Norma']=0\n",
    "#test_df.columns\n",
    "#for column in list(test_df.columns):\n",
    "   # test_df['Norma']+=test_df[column]**2\n",
    "#test_df\n",
    "#new_df['Norma']=np.nan\n",
    "#for column in list(new_df.columns):\n",
    "   #new_df['Norma']+=new_df[column]**2"
   ]
  }
 ],
 "metadata": {
  "kernelspec": {
   "display_name": "Python 3",
   "language": "python",
   "name": "python3"
  },
  "language_info": {
   "codemirror_mode": {
    "name": "ipython",
    "version": 3
   },
   "file_extension": ".py",
   "mimetype": "text/x-python",
   "name": "python",
   "nbconvert_exporter": "python",
   "pygments_lexer": "ipython3",
   "version": "3.7.3"
  }
 },
 "nbformat": 4,
 "nbformat_minor": 2
}
